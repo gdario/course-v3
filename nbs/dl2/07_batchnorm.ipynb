{
 "cells": [
  {
   "cell_type": "code",
   "execution_count": 1,
   "metadata": {},
   "outputs": [],
   "source": [
    "%load_ext autoreload\n",
    "%autoreload 2\n",
    "\n",
    "%matplotlib inline"
   ]
  },
  {
   "cell_type": "code",
   "execution_count": 2,
   "metadata": {},
   "outputs": [],
   "source": [
    "#export\n",
    "from exp.nb_06 import *"
   ]
  },
  {
   "cell_type": "markdown",
   "metadata": {},
   "source": [
    "## ConvNet"
   ]
  },
  {
   "cell_type": "markdown",
   "metadata": {},
   "source": [
    "We have seen what we can do with initialization, but to train really deep networks we need other tricks. One can use SeLU or mixup(?), but these are super-fiddly. J.H. would rather use the Layer-wise Sequential Unit Variance (**LSUV**) that we will encounter in one of the next notebooks. With just initialization, this is as far as we can go, but to go further, we need *normalization*, and in particular Batch Normalization.\n",
    "\n",
    "The Batch Normalization paper shows the algorithm to be used, and it contains two parameters to be learned: $\\gamma$ and $\\beta$. In a neural network there are two main quantities: *parameters*, that are things we *learn*, and *activations*, that are things we *calculate*.\n",
    "\n",
    "Let's get the data and training interface from where we left in the last notebook."
   ]
  },
  {
   "cell_type": "markdown",
   "metadata": {},
   "source": [
    "[Jump_to lesson 10 video](https://course.fast.ai/videos/?lesson=10&t=5899)"
   ]
  },
  {
   "cell_type": "code",
   "execution_count": 3,
   "metadata": {},
   "outputs": [],
   "source": [
    "x_train, y_train, x_valid, y_valid = get_data()\n",
    "\n",
    "x_train, x_valid = normalize_to(x_train, x_valid)\n",
    "train_ds, valid_ds = Dataset(x_train, y_train), Dataset(x_valid, y_valid)\n",
    "\n",
    "nh, bs = 50, 512\n",
    "c = y_train.max().item()+1\n",
    "loss_func = F.cross_entropy\n",
    "\n",
    "data = DataBunch(*get_dls(train_ds, valid_ds, bs), c)"
   ]
  },
  {
   "cell_type": "code",
   "execution_count": 4,
   "metadata": {},
   "outputs": [],
   "source": [
    "mnist_view = view_tfm(1, 28, 28)\n",
    "cbfs = [Recorder,\n",
    "        partial(AvgStatsCallback, accuracy),\n",
    "        CudaCallback,\n",
    "        partial(BatchTransformXCallback, mnist_view)]"
   ]
  },
  {
   "cell_type": "code",
   "execution_count": 5,
   "metadata": {},
   "outputs": [],
   "source": [
    "nfs = [8, 16, 32, 64, 64]"
   ]
  },
  {
   "cell_type": "markdown",
   "metadata": {},
   "source": [
    "0.4 was the highest learning rate we could get in our previous run."
   ]
  },
  {
   "cell_type": "code",
   "execution_count": 6,
   "metadata": {},
   "outputs": [],
   "source": [
    "learn, run = get_learn_run(nfs, data, 0.4, conv_layer, cbs=cbfs)"
   ]
  },
  {
   "cell_type": "code",
   "execution_count": 7,
   "metadata": {},
   "outputs": [
    {
     "name": "stdout",
     "output_type": "stream",
     "text": [
      "train: [1.31988734375, tensor(0.5731, device='cuda:0')]\n",
      "valid: [0.687317041015625, tensor(0.7539, device='cuda:0')]\n",
      "train: [0.2822692578125, tensor(0.9141, device='cuda:0')]\n",
      "valid: [0.1190063232421875, tensor(0.9637, device='cuda:0')]\n",
      "CPU times: user 2.92 s, sys: 705 ms, total: 3.63 s\n",
      "Wall time: 4.89 s\n"
     ]
    }
   ],
   "source": [
    "%time run.fit(2, learn)"
   ]
  },
  {
   "cell_type": "markdown",
   "metadata": {},
   "source": [
    "## Batchnorm"
   ]
  },
  {
   "cell_type": "markdown",
   "metadata": {},
   "source": [
    "### Custom"
   ]
  },
  {
   "cell_type": "markdown",
   "metadata": {},
   "source": [
    "Let's start by building our own `BatchNorm` layer from scratch.\n",
    "\n",
    "We compute the mean and the variance with the method `update_stats()`. Just to confuse things, J.H. calls $\\gamma$ and $\\beta$ `self.mults` (the thing that multiplies) and `self.adds` (the thing that adds). Why, oh why...\n",
    "\n",
    "`self.mults` and `self.adds` are initialized in `__init__()` as `nn.Parameters` of, respectively, ones and zeros (neutral for multiplication and addition). `self.adds` is conceptually identical to *bias*.\n",
    "\n",
    "There are a couple of things we have to keep track of: the first one is what happens at inference time. We want to normalize at training time, but if we normalize at inference time, we may be removing the interesting stuff (**Unclear - clarify**).\n",
    "\n",
    "While we are training, we keep an exponentially moving average of the means and the variances, stored in `self.means.lerp_` and `self.vars.lerp_`. These are running averages of the last few batches. Then, at inference time, we don't use the current mean and variance, but rather these running averages.\n",
    "\n",
    "In `__init__` we don't assign the mean and variance to `self` but rather we do:\n",
    "\n",
    "```python\n",
    "self.register_buffer('vars', torch.ones(1, nf, 1, 1))\n",
    "self.register_buffer('means', torch.zeros(1, nf, 1, 1))\n",
    "```\n",
    "\n",
    "`register_buffer()` has two advantages: if we move the model to the GPU, anything registered with `register_buffer()` will also be moved to the GPU. The other nice thing is that the mean and the variance are part of the model. When we save the model, `register_buffer()` also forces the registered quantities to be saved.\n",
    "\n",
    "When we compute the mean and the variance we averages over axes `(0, 2, 3)`, *i.e.*, over all the batches, and over all the x and y coordinates. We are therefore left only for a mean for each channel.\n",
    "\n",
    "Why do we use an exponential moving average and not a standard moving average? In a standard moving average we would take a subset of the points, average, move one point to the right, average and so on. The problem is that in real models we can have hundreds of millions of parameters, and this becomes very expensive. Exponential Moving Averages use a nifty trick, of adding one value at a time, but applying the formula\n",
    "\n",
    "$$\\mu_{t} = \\beta \\mu_{t-1} + (1 - \\beta) x_{t}$$\n",
    "\n",
    "With this trick, the influence of the previous points decays exponentially. The formula above is a *linear interpolation* between $\\mu_{t-1}$ and $x_t$, and in PyTorch, linear interpolation is obtained with the method `lerp()`. Typically, the *momentum* in an Exponential Moving Average would be $\\beta \\approx 0.9$, but `lerp()` uses the opposite, and we have to pass, as a momentum, $1 - \\beta$. This is also how `nn.BatchNorm` works **check the code**."
   ]
  },
  {
   "cell_type": "markdown",
   "metadata": {},
   "source": [
    "[Jump_to lesson 10 video](https://course.fast.ai/videos/?lesson=10&t=6018)"
   ]
  },
  {
   "cell_type": "code",
   "execution_count": 8,
   "metadata": {},
   "outputs": [],
   "source": [
    "class BatchNorm(nn.Module):\n",
    "    def __init__(self, nf, mom=0.1, eps=1e-5):\n",
    "        super().__init__()\n",
    "        # NB: pytorch bn mom is opposite of what you'd expect\n",
    "        self.mom = mom\n",
    "        self.eps = eps\n",
    "        self.mults = nn.Parameter(torch.ones(nf, 1, 1))\n",
    "        self.adds = nn.Parameter(torch.zeros(nf, 1, 1))\n",
    "        self.register_buffer('vars',  torch.ones(1, nf, 1, 1))\n",
    "        self.register_buffer('means', torch.zeros(1, nf, 1, 1))\n",
    "\n",
    "    def update_stats(self, x):\n",
    "        m = x.mean((0, 2, 3), keepdim=True)\n",
    "        v = x.var((0, 2, 3), keepdim=True)\n",
    "        self.means.lerp_(m, self.mom)\n",
    "        self.vars.lerp_(v, self.mom)\n",
    "        return m, v\n",
    "\n",
    "    def forward(self, x):\n",
    "        if self.training:\n",
    "            with torch.no_grad():\n",
    "                m, v = self.update_stats(x)\n",
    "        else:\n",
    "            m, v = self.means, self.vars\n",
    "        x = (x-m) / (v + self.eps).sqrt()\n",
    "        return x * self.mults + self.adds"
   ]
  },
  {
   "cell_type": "markdown",
   "metadata": {},
   "source": [
    "We create a new `conv_layer()` function that can optionally add a `BatchNorm` layer. If we add a `BatchNorm` layer, we remove the bias because the `self.adds` is already a bias."
   ]
  },
  {
   "cell_type": "code",
   "execution_count": 9,
   "metadata": {},
   "outputs": [],
   "source": [
    "def conv_layer(ni, nf, ks=3, stride=2, bn=True, **kwargs):\n",
    "    # No bias needed if using bn\n",
    "    layers = [nn.Conv2d(ni, nf, ks, padding=ks//2, stride=stride, bias=not bn),\n",
    "              GeneralRelu(**kwargs)]\n",
    "    if bn:\n",
    "        layers.append(BatchNorm(nf))\n",
    "    return nn.Sequential(*layers)"
   ]
  },
  {
   "cell_type": "markdown",
   "metadata": {},
   "source": [
    "`init_cnn_` is a *recursive* initialization that will go through all the parameters."
   ]
  },
  {
   "cell_type": "code",
   "execution_count": 10,
   "metadata": {},
   "outputs": [],
   "source": [
    "#export\n",
    "def init_cnn_(m, f):\n",
    "    if isinstance(m, nn.Conv2d):\n",
    "        f(m.weight, a=0.1)\n",
    "        if getattr(m, 'bias', None) is not None:\n",
    "            m.bias.data.zero_()\n",
    "    for l in m.children():\n",
    "        init_cnn_(l, f)\n",
    "\n",
    "\n",
    "def init_cnn(m, uniform=False):\n",
    "    f = init.kaiming_uniform_ if uniform else init.kaiming_normal_\n",
    "    init_cnn_(m, f)\n",
    "\n",
    "\n",
    "def get_learn_run(nfs, data, lr, layer, cbs=None, opt_func=None,\n",
    "                  uniform=False, **kwargs):\n",
    "    model = get_cnn_model(data, nfs, layer, **kwargs)\n",
    "    init_cnn(model, uniform=uniform)\n",
    "    return get_runner(model, data, lr=lr, cbs=cbs, opt_func=opt_func)"
   ]
  },
  {
   "cell_type": "markdown",
   "metadata": {},
   "source": [
    "We can then use it in training and see how it helps keep the activations means to 0 and the std to 1."
   ]
  },
  {
   "cell_type": "code",
   "execution_count": 11,
   "metadata": {},
   "outputs": [],
   "source": [
    "learn, run = get_learn_run(nfs, data, 0.9, conv_layer, cbs=cbfs)"
   ]
  },
  {
   "cell_type": "code",
   "execution_count": 12,
   "metadata": {},
   "outputs": [
    {
     "name": "stdout",
     "output_type": "stream",
     "text": [
      "train: [0.2732178125, tensor(0.9133, device='cuda:0')]\n",
      "valid: [0.220057080078125, tensor(0.9249, device='cuda:0')]\n"
     ]
    },
    {
     "data": {
      "image/png": "[encoded data removed]",
      "text/plain": [
       "<Figure size 720x288 with 2 Axes>"
      ]
     },
     "metadata": {
      "needs_background": "light"
     },
     "output_type": "display_data"
    },
    {
     "data": {
      "image/png": "[encoded data removed]",
      "text/plain": [
       "<Figure size 720x288 with 2 Axes>"
      ]
     },
     "metadata": {
      "needs_background": "light"
     },
     "output_type": "display_data"
    }
   ],
   "source": [
    "with Hooks(learn.model, append_stats) as hooks:\n",
    "    run.fit(1, learn)\n",
    "    fig, (ax0, ax1) = plt.subplots(1, 2, figsize=(10, 4))\n",
    "    for h in hooks[:-1]:\n",
    "        ms, ss = h.stats\n",
    "        ax0.plot(ms[:10])\n",
    "        ax1.plot(ss[:10])\n",
    "        h.remove()\n",
    "    plt.legend(range(6))\n",
    "\n",
    "    fig, (ax0, ax1) = plt.subplots(1, 2, figsize=(10, 4))\n",
    "    for h in hooks[:-1]:\n",
    "        ms, ss = h.stats\n",
    "        ax0.plot(ms)\n",
    "        ax1.plot(ss)"
   ]
  },
  {
   "cell_type": "markdown",
   "metadata": {},
   "source": [
    "Our training has gotten rid of all the exponential peaks and sudden crashes. There is something happening at the end of training, and we don't know what it is. Now we can push the learning rate of 1.0 and we have 97%."
   ]
  },
  {
   "cell_type": "code",
   "execution_count": 13,
   "metadata": {},
   "outputs": [],
   "source": [
    "learn, run = get_learn_run(nfs, data, 1.0, conv_layer, cbs=cbfs)"
   ]
  },
  {
   "cell_type": "code",
   "execution_count": 14,
   "metadata": {},
   "outputs": [
    {
     "name": "stdout",
     "output_type": "stream",
     "text": [
      "train: [0.2561129296875, tensor(0.9197, device='cuda:0')]\n",
      "valid: [0.198758544921875, tensor(0.9347, device='cuda:0')]\n",
      "train: [0.079818017578125, tensor(0.9761, device='cuda:0')]\n",
      "valid: [0.08552918090820312, tensor(0.9734, device='cuda:0')]\n",
      "train: [0.0580748291015625, tensor(0.9822, device='cuda:0')]\n",
      "valid: [0.061631988525390625, tensor(0.9828, device='cuda:0')]\n",
      "CPU times: user 2.32 s, sys: 199 ms, total: 2.52 s\n",
      "Wall time: 2.53 s\n"
     ]
    }
   ],
   "source": [
    "%time run.fit(3, learn)"
   ]
  },
  {
   "cell_type": "markdown",
   "metadata": {},
   "source": [
    "### Builtin batchnorm"
   ]
  },
  {
   "cell_type": "markdown",
   "metadata": {},
   "source": [
    "[Jump_to lesson 10 video](https://course.fast.ai/videos/?lesson=10&t=6679)\n",
    "\n",
    "Now that we have built our own `BatchNorm`, we can use PyTorch's `nn.BatchNorm` and see that we obtain pretty much the same results."
   ]
  },
  {
   "cell_type": "code",
   "execution_count": 15,
   "metadata": {},
   "outputs": [],
   "source": [
    "# export\n",
    "def conv_layer(ni, nf, ks=3, stride=2, bn=True, **kwargs):\n",
    "    layers = [nn.Conv2d(ni, nf, ks, padding=ks//2, stride=stride, bias=not bn),\n",
    "              GeneralRelu(**kwargs)]\n",
    "    if bn:\n",
    "        layers.append(nn.BatchNorm2d(nf, eps=1e-5, momentum=0.1))\n",
    "    return nn.Sequential(*layers)"
   ]
  },
  {
   "cell_type": "code",
   "execution_count": 16,
   "metadata": {},
   "outputs": [],
   "source": [
    "learn, run = get_learn_run(nfs, data, 1., conv_layer, cbs=cbfs)"
   ]
  },
  {
   "cell_type": "code",
   "execution_count": 17,
   "metadata": {},
   "outputs": [
    {
     "name": "stdout",
     "output_type": "stream",
     "text": [
      "train: [0.2996476953125, tensor(0.9064, device='cuda:0')]\n",
      "valid: [0.165435009765625, tensor(0.9455, device='cuda:0')]\n",
      "train: [0.07978947265625, tensor(0.9757, device='cuda:0')]\n",
      "valid: [0.08031768188476562, tensor(0.9734, device='cuda:0')]\n",
      "train: [0.0548849072265625, tensor(0.9827, device='cuda:0')]\n",
      "valid: [0.0769018310546875, tensor(0.9750, device='cuda:0')]\n",
      "CPU times: user 2.17 s, sys: 192 ms, total: 2.36 s\n",
      "Wall time: 2.37 s\n"
     ]
    }
   ],
   "source": [
    "%time run.fit(3, learn)"
   ]
  },
  {
   "cell_type": "markdown",
   "metadata": {},
   "source": [
    "### With scheduler"
   ]
  },
  {
   "cell_type": "markdown",
   "metadata": {},
   "source": [
    "Now let's add the usual warm-up/annealing, and push the learning rate up to 2.0, and we get almost at 99%."
   ]
  },
  {
   "cell_type": "code",
   "execution_count": 18,
   "metadata": {},
   "outputs": [],
   "source": [
    "sched = combine_scheds([0.3, 0.7], [sched_lin(0.6, 2.), sched_lin(2., 0.1)])"
   ]
  },
  {
   "cell_type": "code",
   "execution_count": 19,
   "metadata": {},
   "outputs": [],
   "source": [
    "learn, run = get_learn_run(nfs, data, 0.9, conv_layer, cbs=cbfs\n",
    "                           + [partial(ParamScheduler, 'lr', sched)])"
   ]
  },
  {
   "cell_type": "code",
   "execution_count": 20,
   "metadata": {},
   "outputs": [
    {
     "name": "stdout",
     "output_type": "stream",
     "text": [
      "train: [0.31386501953125, tensor(0.9065, device='cuda:0')]\n",
      "valid: [0.1246843505859375, tensor(0.9631, device='cuda:0')]\n",
      "train: [0.090292998046875, tensor(0.9725, device='cuda:0')]\n",
      "valid: [0.08679907836914062, tensor(0.9739, device='cuda:0')]\n",
      "train: [0.0616528076171875, tensor(0.9807, device='cuda:0')]\n",
      "valid: [0.08414456176757812, tensor(0.9757, device='cuda:0')]\n",
      "train: [0.0406620703125, tensor(0.9876, device='cuda:0')]\n",
      "valid: [0.06197139892578125, tensor(0.9814, device='cuda:0')]\n",
      "train: [0.025099873046875, tensor(0.9920, device='cuda:0')]\n",
      "valid: [0.052875, tensor(0.9855, device='cuda:0')]\n",
      "train: [0.015779920654296876, tensor(0.9955, device='cuda:0')]\n",
      "valid: [0.04840219116210937, tensor(0.9863, device='cuda:0')]\n",
      "train: [0.010463795166015625, tensor(0.9975, device='cuda:0')]\n",
      "valid: [0.04805570068359375, tensor(0.9861, device='cuda:0')]\n",
      "train: [0.0071552392578125, tensor(0.9986, device='cuda:0')]\n",
      "valid: [0.046599520874023435, tensor(0.9864, device='cuda:0')]\n"
     ]
    }
   ],
   "source": [
    "run.fit(8, learn)"
   ]
  },
  {
   "cell_type": "markdown",
   "metadata": {},
   "source": [
    "## More norms"
   ]
  },
  {
   "cell_type": "markdown",
   "metadata": {},
   "source": [
    "### Layer norm"
   ]
  },
  {
   "cell_type": "markdown",
   "metadata": {},
   "source": [
    "From [the paper](https://arxiv.org/abs/1607.06450): \"*batch normalization cannot be applied to online learning tasks or to extremely large distributed models where the minibatches have to be small*\".\n",
    "\n",
    "If we have a batch size of 1 the variance is infinite, so batch-norm does not makes sense. If we have a segmentation task, with batch size of 2, we also have a problem, because at some point two values will be very similar, and we will be dividing by a variance or almost zero, so we will have unstable or impossible training.\n",
    "\n",
    "It's also hard for RNNs (**I haven't understood the explanation of why it is a problem**). The paper above suggests the solution to these problems."
   ]
  },
  {
   "cell_type": "markdown",
   "metadata": {},
   "source": [
    "General equation for a norm layer with learnable affine:\n",
    "\n",
    "$$y = \\frac{x - \\mathrm{E}[x]}{ \\sqrt{\\mathrm{Var}[x] + \\epsilon}} * \\gamma + \\beta$$\n",
    "\n",
    "The difference with BatchNorm is\n",
    "1. we don't keep a moving average\n",
    "2. we don't average over the batches dimension but over the hidden dimension, so it's independent of the batch size\n",
    "\n",
    "In other words we get rid of all the Exponential Moving Averages, and we average over (1, 2, 3) rather than (0, 2, 3). Every image has its own mean and its own standard deviations, we don't average over the batches any more, but we do average over the channels."
   ]
  },
  {
   "cell_type": "markdown",
   "metadata": {},
   "source": [
    "[Jump_to lesson 10 video](https://course.fast.ai/videos/?lesson=10&t=6717)"
   ]
  },
  {
   "cell_type": "code",
   "execution_count": 21,
   "metadata": {},
   "outputs": [],
   "source": [
    "class LayerNorm(nn.Module):\n",
    "    __constants__ = ['eps']\n",
    "\n",
    "    def __init__(self, eps=1e-5):\n",
    "        super().__init__()\n",
    "        self.eps = eps\n",
    "        self.mult = nn.Parameter(tensor(1.))\n",
    "        self.add = nn.Parameter(tensor(0.))\n",
    "\n",
    "    def forward(self, x):\n",
    "        m = x.mean((1, 2, 3), keepdim=True)\n",
    "        v = x.var((1, 2, 3), keepdim=True)\n",
    "        x = (x-m) / ((v+self.eps).sqrt())\n",
    "        return x*self.mult + self.add"
   ]
  },
  {
   "cell_type": "code",
   "execution_count": 22,
   "metadata": {},
   "outputs": [],
   "source": [
    "def conv_ln(ni, nf, ks=3, stride=2, bn=True, **kwargs):\n",
    "    layers = [nn.Conv2d(ni, nf, ks, padding=ks//2, stride=stride, bias=True),\n",
    "              GeneralRelu(**kwargs)]\n",
    "    if bn:\n",
    "        layers.append(LayerNorm())\n",
    "    return nn.Sequential(*layers)"
   ]
  },
  {
   "cell_type": "markdown",
   "metadata": {},
   "source": [
    "The problem is that if we train, even at a lower learning rate, it doesn't work. We don't have a different normalization for each channel, and therefore we treat things as if they were the same, but they are not. In other words, `LayerNorm` can help for images, but it's not nearly as good as `BatchNorm`. For RNNs, however, this is what you have to use."
   ]
  },
  {
   "cell_type": "code",
   "execution_count": 23,
   "metadata": {},
   "outputs": [],
   "source": [
    "learn, run = get_learn_run(nfs, data, 0.8, conv_ln, cbs=cbfs)"
   ]
  },
  {
   "cell_type": "code",
   "execution_count": 24,
   "metadata": {},
   "outputs": [
    {
     "name": "stdout",
     "output_type": "stream",
     "text": [
      "train: [nan, tensor(0.1811, device='cuda:0')]\n",
      "valid: [nan, tensor(0.0991, device='cuda:0')]\n",
      "train: [nan, tensor(0.0986, device='cuda:0')]\n",
      "valid: [nan, tensor(0.0991, device='cuda:0')]\n",
      "train: [nan, tensor(0.0986, device='cuda:0')]\n",
      "valid: [nan, tensor(0.0991, device='cuda:0')]\n",
      "CPU times: user 2.75 s, sys: 263 ms, total: 3.01 s\n",
      "Wall time: 3.03 s\n"
     ]
    }
   ],
   "source": [
    "%time run.fit(3, learn)"
   ]
  },
  {
   "cell_type": "markdown",
   "metadata": {},
   "source": [
    "*Thought experiment*: can this distinguish foggy days from sunny days (assuming you're using it before the first conv)?\n",
    "\n",
    "Foggy days will have 1) less activations on average as they are less bright, 2) less contrast, i.e. less average. `LayerNorm` will normalize the means to be the same and the variances to be the same, so now they sunny day picture and the hazy day picture will have the same amount of activation and of contrast, so the answer to the question is no. If you put it anywhere in the middle layers, the answer is the same."
   ]
  },
  {
   "cell_type": "markdown",
   "metadata": {},
   "source": [
    "### Instance norm"
   ]
  },
  {
   "cell_type": "markdown",
   "metadata": {},
   "source": [
    "From [the paper](https://arxiv.org/abs/1607.08022): "
   ]
  },
  {
   "cell_type": "markdown",
   "metadata": {},
   "source": [
    "The key difference between **contrast** and batch normalization is that the latter applies the normalization to a  whole batch of images instead for single ones:\n",
    "\n",
    "\\begin{equation}\n",
    "\\label{eq:bnorm}\n",
    "    y_{tijk} =  \\frac{x_{tijk} - \\mu_{i}}{\\sqrt{\\sigma_i^2 + \\epsilon}},\n",
    "    \\quad\n",
    "    \\mu_i = \\frac{1}{HWT}\\sum_{t=1}^T\\sum_{l=1}^W \\sum_{m=1}^H x_{tilm},\n",
    "    \\quad\n",
    "    \\sigma_i^2 = \\frac{1}{HWT}\\sum_{t=1}^T\\sum_{l=1}^W \\sum_{m=1}^H (x_{tilm} - mu_i)^2.\n",
    "\\end{equation}\n",
    "\n",
    "In order to combine the effects of instance-specific normalization and batch normalization, we propose to replace the latter by the *instance normalization* (also known as *contrast normalization*) layer:\n",
    "\n",
    "\\begin{equation}\n",
    "\\label{eq:inorm}\n",
    "    y_{tijk} =  \\frac{x_{tijk} - \\mu_{ti}}{\\sqrt{\\sigma_{ti}^2 + \\epsilon}},\n",
    "    \\quad\n",
    "    \\mu_{ti} = \\frac{1}{HW}\\sum_{l=1}^W \\sum_{m=1}^H x_{tilm},\n",
    "    \\quad\n",
    "    \\sigma_{ti}^2 = \\frac{1}{HW}\\sum_{l=1}^W \\sum_{m=1}^H (x_{tilm} - mu_{ti})^2.\n",
    "\\end{equation}\n",
    "\n",
    "So `InstanceNorm` averages over the indices (2, 3)"
   ]
  },
  {
   "cell_type": "markdown",
   "metadata": {},
   "source": [
    "[Jump_to lesson 10 video](https://course.fast.ai/videos/?lesson=10&t=7114)"
   ]
  },
  {
   "cell_type": "code",
   "execution_count": 25,
   "metadata": {},
   "outputs": [],
   "source": [
    "class InstanceNorm(nn.Module):\n",
    "    __constants__ = ['eps']\n",
    "\n",
    "    def __init__(self, nf, eps=1e-0):\n",
    "        super().__init__()\n",
    "        self.eps = eps\n",
    "        self.mults = nn.Parameter(torch.ones(nf, 1, 1))\n",
    "        self.adds = nn.Parameter(torch.zeros(nf, 1, 1))\n",
    "\n",
    "    def forward(self, x):\n",
    "        m = x.mean((2, 3), keepdim=True)\n",
    "        v = x.var((2, 3), keepdim=True)\n",
    "        res = (x-m) / ((v + self.eps).sqrt())\n",
    "        return res*self.mults + self.adds"
   ]
  },
  {
   "cell_type": "code",
   "execution_count": 26,
   "metadata": {},
   "outputs": [],
   "source": [
    "def conv_in(ni, nf, ks=3, stride=2, bn=True, **kwargs):\n",
    "    layers = [nn.Conv2d(ni, nf, ks, padding=ks//2, stride=stride, bias=True),\n",
    "              GeneralRelu(**kwargs)]\n",
    "    if bn:\n",
    "        layers.append(InstanceNorm(nf))\n",
    "    return nn.Sequential(*layers)"
   ]
  },
  {
   "cell_type": "markdown",
   "metadata": {},
   "source": [
    "`InstanceNorm` even at a learning rate of 0.1 doesn't learn anything at all. Why? Because we are averaging over every channell and every image and throwing away anything that can distinguish them.\n",
    "\n",
    "`InstanceNorm` was not designed for classification, but rather for style transfer where the authors guessed that the difference in contrast and overall amount were not important and could be removed. So there are many types of normalization, but you need to understand what each one of them does."
   ]
  },
  {
   "cell_type": "code",
   "execution_count": 27,
   "metadata": {},
   "outputs": [],
   "source": [
    "learn, run = get_learn_run(nfs, data, 0.1, conv_in, cbs=cbfs)"
   ]
  },
  {
   "cell_type": "code",
   "execution_count": 28,
   "metadata": {},
   "outputs": [
    {
     "name": "stdout",
     "output_type": "stream",
     "text": [
      "train: [nan, tensor(0.0986, device='cuda:0')]\n",
      "valid: [nan, tensor(0.0991, device='cuda:0')]\n",
      "train: [nan, tensor(0.0986, device='cuda:0')]\n",
      "valid: [nan, tensor(0.0991, device='cuda:0')]\n",
      "train: [nan, tensor(0.0986, device='cuda:0')]\n",
      "valid: [nan, tensor(0.0991, device='cuda:0')]\n",
      "CPU times: user 2.77 s, sys: 286 ms, total: 3.05 s\n",
      "Wall time: 3.06 s\n"
     ]
    }
   ],
   "source": [
    "%time run.fit(3, learn)"
   ]
  },
  {
   "cell_type": "markdown",
   "metadata": {},
   "source": [
    "*Question*: why can't this classify anything?"
   ]
  },
  {
   "cell_type": "markdown",
   "metadata": {},
   "source": [
    "Lost in all those norms? The authors from the [group norm paper](https://arxiv.org/pdf/1803.08494.pdf) show the differences between the various types of normalization. Note that in `GroupNorm` the normalization arbitrarily operates on a group of channels.\n",
    "\n",
    "![Various norms](images/norms.png)"
   ]
  },
  {
   "cell_type": "markdown",
   "metadata": {
    "heading_collapsed": true
   },
   "source": [
    "### Group norm"
   ]
  },
  {
   "cell_type": "markdown",
   "metadata": {
    "hidden": true
   },
   "source": [
    "[Jump_to lesson 10 video](https://course.fast.ai/videos/?lesson=10&t=7213)"
   ]
  },
  {
   "cell_type": "markdown",
   "metadata": {
    "hidden": true
   },
   "source": [
    "*From the PyTorch docs:*"
   ]
  },
  {
   "cell_type": "markdown",
   "metadata": {
    "hidden": true
   },
   "source": [
    "`GroupNorm(num_groups, num_channels, eps=1e-5, affine=True)`\n",
    "\n",
    "The input channels are separated into `num_groups` groups, each containing\n",
    "``num_channels / num_groups`` channels. The mean and standard-deviation are calculated\n",
    "separately over the each group. $\\gamma$ and $\\beta$ are learnable\n",
    "per-channel affine transform parameter vectorss of size `num_channels` if\n",
    "`affine` is ``True``.\n",
    "\n",
    "This layer uses statistics computed from input data in both training and\n",
    "evaluation modes.\n",
    "\n",
    "Args:\n",
    "-    num_groups (int): number of groups to separate the channels into\n",
    "-    num_channels (int): number of channels expected in input\n",
    "-    eps: a value added to the denominator for numerical stability. Default: 1e-5\n",
    "-    affine: a boolean value that when set to ``True``, this module\n",
    "        has learnable per-channel affine parameters initialized to ones (for weights)\n",
    "        and zeros (for biases). Default: ``True``.\n",
    "\n",
    "Shape:\n",
    "- Input: `(N, num_channels, *)`\n",
    "- Output: `(N, num_channels, *)` (same shape as input)\n",
    "\n",
    "Examples::\n",
    "\n",
    "    >>> input = torch.randn(20, 6, 10, 10)\n",
    "    >>> # Separate 6 channels into 3 groups\n",
    "    >>> m = nn.GroupNorm(3, 6)\n",
    "    >>> # Separate 6 channels into 6 groups (equivalent with InstanceNorm)\n",
    "    >>> m = nn.GroupNorm(6, 6)\n",
    "    >>> # Put all 6 channels into a single group (equivalent with LayerNorm)\n",
    "    >>> m = nn.GroupNorm(1, 6)\n",
    "    >>> # Activating the module\n",
    "    >>> output = m(input)"
   ]
  },
  {
   "cell_type": "markdown",
   "metadata": {},
   "source": [
    "## Fix small batch sizes\n",
    "\n",
    "There are a number of different approaches to normalization, but we have seen none of them is as good as `BatchNorm`. We don't know how to fix the problem for RNNs, but we may know how to fix the problem for small batches."
   ]
  },
  {
   "cell_type": "markdown",
   "metadata": {},
   "source": [
    "### What's the problem?"
   ]
  },
  {
   "cell_type": "markdown",
   "metadata": {},
   "source": [
    "When we compute the statistics (mean and std) for a BatchNorm Layer on a small batch, it is possible that we get a standard deviation very close to 0. because there aren't many samples (the variance of one thing is 0. since it's equal to its mean).\n",
    "\n",
    "We create a new `DataBunch` with a batch size of 2. If we run it we see it takes a long time, which makes sense. There is a lot of GPU overhead, so much that it may be faster on the CPU. The performance is also awful, because of the small batch size."
   ]
  },
  {
   "cell_type": "markdown",
   "metadata": {},
   "source": [
    "[Jump_to lesson 10 video](https://course.fast.ai/videos/?lesson=10&t=7304)"
   ]
  },
  {
   "cell_type": "code",
   "execution_count": 29,
   "metadata": {},
   "outputs": [],
   "source": [
    "data = DataBunch(*get_dls(train_ds, valid_ds, 2), c)"
   ]
  },
  {
   "cell_type": "code",
   "execution_count": 30,
   "metadata": {},
   "outputs": [],
   "source": [
    "def conv_layer(ni, nf, ks=3, stride=2, bn=True, **kwargs):\n",
    "    layers = [nn.Conv2d(ni, nf, ks, padding=ks//2, stride=stride, bias=not bn),\n",
    "              GeneralRelu(**kwargs)]\n",
    "    if bn:\n",
    "        layers.append(nn.BatchNorm2d(nf, eps=1e-5, momentum=0.1))\n",
    "    return nn.Sequential(*layers)"
   ]
  },
  {
   "cell_type": "code",
   "execution_count": 31,
   "metadata": {},
   "outputs": [],
   "source": [
    "learn, run = get_learn_run(nfs, data, 0.4, conv_layer, cbs=cbfs)"
   ]
  },
  {
   "cell_type": "code",
   "execution_count": 32,
   "metadata": {},
   "outputs": [
    {
     "name": "stdout",
     "output_type": "stream",
     "text": [
      "train: [2.36923328125, tensor(0.1543, device='cuda:0')]\n",
      "valid: [3384229.0688, tensor(0.1089, device='cuda:0')]\n",
      "CPU times: user 51.5 s, sys: 484 ms, total: 51.9 s\n",
      "Wall time: 52.2 s\n"
     ]
    }
   ],
   "source": [
    "%time run.fit(1, learn)"
   ]
  },
  {
   "cell_type": "markdown",
   "metadata": {},
   "source": [
    "### Running Batch Norm"
   ]
  },
  {
   "cell_type": "markdown",
   "metadata": {},
   "source": [
    "In our `BatchNorm` above we included `self.eps` to avoid divisions by zero. But what if, instead of a fixed value, we *learn* it? If instead of 1e-5 we use `self.eps = 0.01`, even in the worst case, we would be multiplying by 10 (mind the square root) so it wouldn't easily blow up.\n",
    "\n",
    "An even better solution is to introduce a Running BatchNorm that uses smoother running mean and variance for the mean and std. The idea is not to subtract the batch mean and divide by the batch standard deviation, but rather use the moving average statistics at training time as well, and not just at training time. According to J.H., even if you happen to have a very small variance, which will happen with small sample sizes, this will have a much smaller impact.\n",
    "\n",
    "There are a number of details:\n",
    "\n",
    "1. In `BatchNorm` we take the running average of the variance. J.H. says that you cannot take the average of variances. He uses the $E[X^2] - E^2[X]$ formula for this. **TODO: LOOK AT THE CODE**.\n",
    "2. The batch size may vary so they are also taking a moving average of the batch sizes.\n",
    "3. We need to do *debiasing*: we want to make sure that no observation is weighted too highly. The first point gets too much weight. You initialize both `sums` and `sqrs` to zero, then you do the `lerp()`. We have an exponentially debiased amount and we divide by the debiased amount.\n",
    "4. If your first minibatch is really close to zero, that will ruin everything, so there is an additional guard rail that says \"clamp the first 20 values to 0.01."
   ]
  },
  {
   "cell_type": "markdown",
   "metadata": {},
   "source": [
    "[Jump_to lesson 10 video](https://course.fast.ai/videos/?lesson=10&t=7516)"
   ]
  },
  {
   "cell_type": "code",
   "execution_count": 33,
   "metadata": {},
   "outputs": [],
   "source": [
    "class RunningBatchNorm(nn.Module):\n",
    "    def __init__(self, nf, mom=0.1, eps=1e-5):\n",
    "        super().__init__()\n",
    "        self.mom = mom\n",
    "        self.eps = eps\n",
    "        self.mults = nn.Parameter(torch.ones(nf, 1, 1))\n",
    "        self.adds = nn.Parameter(torch.zeros(nf, 1, 1))\n",
    "        self.register_buffer('sums', torch.zeros(1, nf, 1, 1))\n",
    "        self.register_buffer('sqrs', torch.zeros(1, nf, 1, 1))\n",
    "        self.register_buffer('batch', tensor(0.))\n",
    "        self.register_buffer('count', tensor(0.))\n",
    "        self.register_buffer('step', tensor(0.))\n",
    "        self.register_buffer('dbias', tensor(0.))\n",
    "\n",
    "    def update_stats(self, x):\n",
    "        bs, nc, *_ = x.shape\n",
    "        self.sums.detach_()\n",
    "        self.sqrs.detach_()\n",
    "        dims = (0, 2, 3)\n",
    "        s = x.sum(dims, keepdim=True)\n",
    "        ss = (x*x).sum(dims, keepdim=True)\n",
    "        c = self.count.new_tensor(x.numel() / nc)\n",
    "        mom1 = 1 - (1 - self.mom) / math.sqrt(bs-1)\n",
    "        self.mom1 = self.dbias.new_tensor(mom1)\n",
    "        self.sums.lerp_(s, self.mom1)\n",
    "        self.sqrs.lerp_(ss, self.mom1)\n",
    "        self.count.lerp_(c, self.mom1)\n",
    "        self.dbias = self.dbias * (1 - self.mom1) + self.mom1\n",
    "        self.batch += bs\n",
    "        self.step += 1\n",
    "\n",
    "    def forward(self, x):\n",
    "        if self.training:\n",
    "            self.update_stats(x)\n",
    "        sums = self.sums\n",
    "        sqrs = self.sqrs\n",
    "        c = self.count\n",
    "        if self.step < 100:\n",
    "            sums = sums / self.dbias\n",
    "            sqrs = sqrs / self.dbias\n",
    "            c = c / self.dbias\n",
    "        means = sums/c\n",
    "        vars = (sqrs/c).sub_(means*means)\n",
    "        if bool(self.batch < 20):\n",
    "            vars.clamp_min_(0.01)\n",
    "        x = (x-means).div_((vars.add_(self.eps)).sqrt())\n",
    "        return x.mul_(self.mults).add_(self.adds)"
   ]
  },
  {
   "cell_type": "code",
   "execution_count": 34,
   "metadata": {},
   "outputs": [],
   "source": [
    "def conv_rbn(ni, nf, ks=3, stride=2, bn=True, **kwargs):\n",
    "    layers = [nn.Conv2d(ni, nf, ks, padding=ks//2, stride=stride, bias=not bn),\n",
    "              GeneralRelu(**kwargs)]\n",
    "    if bn:\n",
    "        layers.append(RunningBatchNorm(nf))\n",
    "    return nn.Sequential(*layers)"
   ]
  },
  {
   "cell_type": "code",
   "execution_count": 35,
   "metadata": {},
   "outputs": [],
   "source": [
    "learn, run = get_learn_run(nfs, data, 0.4, conv_rbn, cbs=cbfs)"
   ]
  },
  {
   "cell_type": "code",
   "execution_count": 36,
   "metadata": {},
   "outputs": [
    {
     "name": "stdout",
     "output_type": "stream",
     "text": [
      "train: [0.769417890625, tensor(0.7929, device='cuda:0')]\n",
      "valid: [89.74020625, tensor(0.9035, device='cuda:0')]\n",
      "CPU times: user 2min 5s, sys: 1.35 s, total: 2min 6s\n",
      "Wall time: 2min 7s\n"
     ]
    }
   ],
   "source": [
    "%time run.fit(1, learn)"
   ]
  },
  {
   "cell_type": "markdown",
   "metadata": {},
   "source": [
    "This solves the small batch size issue!"
   ]
  },
  {
   "cell_type": "markdown",
   "metadata": {},
   "source": [
    "### What can we do in a single epoch?\n",
    "\n",
    "What is the best accuracy you can get *in a single epoch*?\n",
    "Now let's see with a decent batch size what result we can get."
   ]
  },
  {
   "cell_type": "markdown",
   "metadata": {},
   "source": [
    "[Jump_to lesson 10 video](https://course.fast.ai/videos/?lesson=10&t=8068)"
   ]
  },
  {
   "cell_type": "code",
   "execution_count": 37,
   "metadata": {},
   "outputs": [],
   "source": [
    "data = DataBunch(*get_dls(train_ds, valid_ds, 32), c)"
   ]
  },
  {
   "cell_type": "code",
   "execution_count": 38,
   "metadata": {},
   "outputs": [],
   "source": [
    "learn, run = get_learn_run(nfs, data, 0.9, conv_rbn, cbs=cbfs\n",
    "                           + [partial(ParamScheduler, 'lr', sched_lin(1., 0.2))])"
   ]
  },
  {
   "cell_type": "code",
   "execution_count": 39,
   "metadata": {},
   "outputs": [
    {
     "name": "stdout",
     "output_type": "stream",
     "text": [
      "train: [0.16579693359375, tensor(0.9495, device='cuda:0')]\n",
      "valid: [0.2214311279296875, tensor(0.9767, device='cuda:0')]\n",
      "CPU times: user 8.12 s, sys: 92.2 ms, total: 8.21 s\n",
      "Wall time: 8.27 s\n"
     ]
    }
   ],
   "source": [
    "%time run.fit(1, learn)"
   ]
  },
  {
   "cell_type": "markdown",
   "metadata": {},
   "source": [
    "## Simplified RunningBatchNorm\n",
    "\n",
    "Stas Bekman noticed that we don't actually need to debias in the calculation above. In the code in this snippet\n",
    "\n",
    "```python\n",
    "sums = sums / self.dbias\n",
    "sqrs = sqrs / self.dbias\n",
    "c = c / self.dbias\n",
    "```\n",
    "\n",
    "there is no point in dividing by `self.dbias`. This means that we can remove all the debiasing and end up with something simpler.\n",
    "Tom Viehmann also found a way to simplify these calculations.\n",
    "\n",
    "**Important**: the simplified version is not on GitHub, I don't know why. Someone asked this same question [on the forum](https://forums.fast.ai/t/simplified-runningbatchnorm-in-lesson-11/56340)."
   ]
  },
  {
   "cell_type": "markdown",
   "metadata": {},
   "source": [
    "## Export"
   ]
  },
  {
   "cell_type": "code",
   "execution_count": 40,
   "metadata": {},
   "outputs": [
    {
     "data": {
      "application/javascript": [
       "{\n",
       "const ip = IPython.notebook\n",
       "if (ip) {\n",
       "    ip.save_notebook()\n",
       "    console.log('a')\n",
       "    const s = `!python notebook2script.py ${ip.notebook_name}`\n",
       "    if (ip.kernel) { ip.kernel.execute(s) }\n",
       "}\n",
       "}"
      ],
      "text/plain": [
       "<IPython.core.display.Javascript object>"
      ]
     },
     "metadata": {},
     "output_type": "display_data"
    }
   ],
   "source": [
    "nb_auto_export()"
   ]
  },
  {
   "cell_type": "code",
   "execution_count": null,
   "metadata": {},
   "outputs": [],
   "source": []
  }
 ],
 "metadata": {
  "kernelspec": {
   "display_name": "Python 3",
   "language": "python",
   "name": "python3"
  },
  "language_info": {
   "codemirror_mode": {
    "name": "ipython",
    "version": 3
   },
   "file_extension": ".py",
   "mimetype": "text/x-python",
   "name": "python",
   "nbconvert_exporter": "python",
   "pygments_lexer": "ipython3",
   "version": "3.6.10"
  }
 },
 "nbformat": 4,
 "nbformat_minor": 2
}
