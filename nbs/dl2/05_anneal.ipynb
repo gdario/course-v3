{
 "cells": [
  {
   "cell_type": "code",
   "execution_count": 1,
   "metadata": {},
   "outputs": [],
   "source": [
    "%load_ext autoreload\n",
    "%autoreload 2\n",
    "\n",
    "%matplotlib inline"
   ]
  },
  {
   "cell_type": "code",
   "execution_count": 2,
   "metadata": {},
   "outputs": [],
   "source": [
    "#export\n",
    "from exp.nb_04 import *"
   ]
  },
  {
   "cell_type": "markdown",
   "metadata": {},
   "source": [
    "## Initial setup"
   ]
  },
  {
   "cell_type": "markdown",
   "metadata": {},
   "source": [
    "[Jump_to lesson 9 video](https://course.fast.ai/videos/?lesson=9&t=7013)\n",
    "\n",
    "In this notebooks we will use what we learned in notebook 04 to do *one-cycle training*. In the coming lessons we will do a deep dive on the dynamics of how models train by using *hooks*. In a nutshell, if you manage to get the first batches working well, everything becomes easier, in the sense that you can get *superconvergence*, and for this good *annealing* is critical. We start as before getting our data, creating a `DataBunch`, a `Learner` and a `Runner`."
   ]
  },
  {
   "cell_type": "code",
   "execution_count": 3,
   "metadata": {},
   "outputs": [],
   "source": [
    "x_train, y_train, x_valid, y_valid = get_data()\n",
    "train_ds, valid_ds = Dataset(x_train, y_train), Dataset(x_valid, y_valid)\n",
    "nh, bs = 50, 512\n",
    "c = y_train.max().item() + 1\n",
    "loss_func = F.cross_entropy"
   ]
  },
  {
   "cell_type": "code",
   "execution_count": 4,
   "metadata": {},
   "outputs": [],
   "source": [
    "data = DataBunch(*get_dls(train_ds, valid_ds, bs), c)"
   ]
  },
  {
   "cell_type": "code",
   "execution_count": 5,
   "metadata": {},
   "outputs": [],
   "source": [
    "#export\n",
    "def create_learner(model_func, loss_func, data):\n",
    "    return Learner(*model_func(data), loss_func, data)"
   ]
  },
  {
   "cell_type": "markdown",
   "metadata": {},
   "source": [
    "By default, `get_model()` sets the learning rate to 0.5. This is the definition of `get_model()`.\n",
    "\n",
    "```python\n",
    "def get_model(data, lr=0.5, nh=50):\n",
    "    m = data.train_ds.x.shape[1]\n",
    "    model = nn.Sequential(nn.Linear(m, nh),\n",
    "                          nn.ReLU(),\n",
    "                          nn.Linear(nh, data.c))\n",
    "    return model, optim.SGD(model.parameters(), lr=lr)\n",
    "```"
   ]
  },
  {
   "cell_type": "code",
   "execution_count": 6,
   "metadata": {},
   "outputs": [
    {
     "name": "stdout",
     "output_type": "stream",
     "text": [
      "train: [0.6433898828125, tensor(0.8154)]\n",
      "valid: [0.2967282958984375, tensor(0.9143)]\n",
      "train: [0.2877551171875, tensor(0.9156)]\n",
      "valid: [0.2715494873046875, tensor(0.9217)]\n",
      "train: [0.2320511328125, tensor(0.9326)]\n",
      "valid: [0.196691357421875, tensor(0.9447)]\n"
     ]
    }
   ],
   "source": [
    "learn = create_learner(get_model, loss_func, data)\n",
    "run = Runner([AvgStatsCallback([accuracy])])\n",
    "\n",
    "run.fit(3, learn)"
   ]
  },
  {
   "cell_type": "markdown",
   "metadata": {},
   "source": [
    "We can change it to 0.3, and see how it changes."
   ]
  },
  {
   "cell_type": "code",
   "execution_count": 7,
   "metadata": {},
   "outputs": [
    {
     "name": "stdout",
     "output_type": "stream",
     "text": [
      "train: [0.7610684375, tensor(0.8069)]\n",
      "valid: [0.35528291015625, tensor(0.8984)]\n",
      "train: [0.3481691015625, tensor(0.9007)]\n",
      "valid: [0.2932612060546875, tensor(0.9151)]\n",
      "train: [0.3004438671875, tensor(0.9136)]\n",
      "valid: [0.2782374267578125, tensor(0.9213)]\n"
     ]
    }
   ],
   "source": [
    "learn = create_learner(partial(get_model, lr=0.3), loss_func, data)\n",
    "run = Runner([AvgStatsCallback([accuracy])])\n",
    "\n",
    "run.fit(3, learn)"
   ]
  },
  {
   "cell_type": "markdown",
   "metadata": {},
   "source": [
    "Let's create a function that returns a model with a given learning rate. `get_model_func()` returns a function that returns a model and an optimizer with the learning rate fixed at the value `lr`."
   ]
  },
  {
   "cell_type": "code",
   "execution_count": 8,
   "metadata": {},
   "outputs": [],
   "source": [
    "#export\n",
    "def get_model_func(lr=0.5):\n",
    "    return partial(get_model, lr=lr)"
   ]
  },
  {
   "cell_type": "markdown",
   "metadata": {},
   "source": [
    "## Annealing"
   ]
  },
  {
   "cell_type": "markdown",
   "metadata": {},
   "source": [
    "We define two new callbacks: the `Recorder` to save track of the loss and our scheduled learning rate, and a `ParamScheduler` that can schedule any hyper-parameter as long as it's registered in the `state_dict` of the optimizer. "
   ]
  },
  {
   "cell_type": "markdown",
   "metadata": {},
   "source": [
    "[Jump_to lesson 9 video](https://course.fast.ai/videos/?lesson=9&t=7202)\n",
    "\n",
    "We are going to create a callback that does hyper-parameter scheduling. In this notebook we will only look into the learning rate, but in the last 12 months research has focused on scheduling other things, like the dropout rate, weight decay, momentum, what type of data augmentation you use, etc. One observation is that the loss landscape of NNs looks very different at the beginning, in the middle, and at the end of the training process. It is therefore very unlikely that the same hyper-parameters will be equally effective throughout the training loop.\n",
    "\n",
    "The `Recorder` class allows us to look into the learning rates and the losses at each batch. In general, there will be multiple learning rates, one for each parameter group. In fastai the `Recorder` only stores the learning rate of the final layer. The class also contains plotting functions for visualization.\n",
    "\n",
    "**CLARIFY**: \n",
    "\n",
    "1. Who attaches `lr` to `self.opt.param.groups`?\n",
    "2. Where is `self.opt` inherited from?"
   ]
  },
  {
   "cell_type": "code",
   "execution_count": 9,
   "metadata": {},
   "outputs": [],
   "source": [
    "#export\n",
    "class Recorder(Callback):\n",
    "    def begin_fit(self):\n",
    "        self.lrs = []\n",
    "        self.losses = []\n",
    "\n",
    "    def after_batch(self):\n",
    "        if not self.in_train:\n",
    "            return\n",
    "        self.lrs.append(self.opt.param_groups[-1]['lr'])\n",
    "        self.losses.append(self.loss.detach().cpu())\n",
    "\n",
    "    def plot_lr(self):\n",
    "        plt.plot(self.lrs)\n",
    "\n",
    "    def plot_loss(self):\n",
    "        plt.plot(self.losses)"
   ]
  },
  {
   "cell_type": "markdown",
   "metadata": {},
   "source": [
    "For the scheduler, we are going to pass the name of a parameter `param` (in our case `lr`) and a scheduling function `sched_func()` to `__init__()`. `sched_func()` takes the current fraction of the total number of epochs and, for each parameter group, it will set the parameter of interest. We don't necessarily want to have the same value of a hyper-parameter, in this case the learning rate, for all our layers. This is why we use the parameter groups (abstracted to *layer groups* in fastai, but pretty much the same thing). Parameter groups are contained in the *optimizer*. A PyTorch optimizer usually contains only one parameter group, unless specified otherwise.\n",
    "\n",
    "Every time we start a new batch (`begin_batch()`) we call `set_param()`."
   ]
  },
  {
   "cell_type": "code",
   "execution_count": 10,
   "metadata": {},
   "outputs": [],
   "source": [
    "class ParamScheduler(Callback):\n",
    "    _order = 1\n",
    "\n",
    "    def __init__(self, pname, sched_func):\n",
    "        self.pname = pname\n",
    "        self.sched_func = sched_func\n",
    "\n",
    "    def set_param(self):\n",
    "        for pg in self.opt.param_groups:\n",
    "            pg[self.pname] = self.sched_func(self.n_epochs / self.epochs)\n",
    "\n",
    "    def begin_batch(self):\n",
    "        if self.in_train:\n",
    "            self.set_param()"
   ]
  },
  {
   "cell_type": "markdown",
   "metadata": {},
   "source": [
    "As we said before, `sched_func` takes the fraction `pos` (for *position*) of the total number of epochs, so a number between 0 and 1.\n",
    "Let's start with a simple linear schedule going from start to end. It returns a function that takes a `pos` argument such that this function goes from `start` (at `pos=0`) to `end` (at `pos=1`) in a linear fashion. Note that `pos` is a number between 0 and 1, but `start` and `end` are the initial and the final learning rates. The `_inner` function takes `start`, `end` and `pos` and returns the scheduled learning rate at position `pos`. To convert `_inner` into a function that only takes `pos` we again use `partial`.\n",
    "\n",
    "[Jump_to lesson 9 video](https://course.fast.ai/videos/?lesson=9&t=7431)"
   ]
  },
  {
   "cell_type": "code",
   "execution_count": 11,
   "metadata": {},
   "outputs": [],
   "source": [
    "def sched_lin(start, end):\n",
    "    def _inner(start, end, pos):\n",
    "        return start + pos * (end - start)\n",
    "    return partial(_inner, start, end)"
   ]
  },
  {
   "cell_type": "markdown",
   "metadata": {},
   "source": [
    "The above solution works fine, but since we are going to use many schedulers, we don't want to rewrite this function every time. We can therefore it refactor with a **decorator**.\n",
    "\n",
    "How does the decorator work? Since `sched_lin()` has an `@annealer` decorator, it is passed as an argument to the decorator function `annealer`, and the definition of `sched_lin` is replaced with whatever `anneal` returns, in this case `_inner`.\n",
    "\n",
    "With this trick, we can define `sched_lin()` in the natural way, taking `start`, `end`, `pos`. The `@annealer` decorator then takes `sched_lin()` and returns a function of `pos` only."
   ]
  },
  {
   "cell_type": "markdown",
   "metadata": {},
   "source": [
    "[Jump_to lesson 9 video](https://course.fast.ai/videos/?lesson=9&t=7526)"
   ]
  },
  {
   "cell_type": "code",
   "execution_count": 12,
   "metadata": {},
   "outputs": [],
   "source": [
    "#export\n",
    "def annealer(f):\n",
    "    def _inner(start, end):\n",
    "        return partial(f, start, end)\n",
    "    return _inner\n",
    "\n",
    "\n",
    "@annealer\n",
    "def sched_lin(start, end, pos):\n",
    "    return start + pos * (end - start)"
   ]
  },
  {
   "cell_type": "code",
   "execution_count": 13,
   "metadata": {},
   "outputs": [],
   "source": [
    "# shift-tab works too, in Jupyter!\n",
    "# It works in Emacs too!!!\n",
    "# sched_lin()"
   ]
  },
  {
   "cell_type": "markdown",
   "metadata": {},
   "source": [
    "In the code below, `f = f(pos)`."
   ]
  },
  {
   "cell_type": "code",
   "execution_count": 14,
   "metadata": {},
   "outputs": [
    {
     "data": {
      "text/plain": [
       "1.3"
      ]
     },
     "execution_count": 14,
     "metadata": {},
     "output_type": "execute_result"
    }
   ],
   "source": [
    "f = sched_lin(1, 2)\n",
    "f(0.3)"
   ]
  },
  {
   "cell_type": "markdown",
   "metadata": {},
   "source": [
    "We can now define many other schedulers. For example, a \"non-scheduler\" `sched_no()` that always returns the `start` value, a cosine scheduler, an exponential scheduler and, more interesting to us, a *cosine one-cycle scheduler*.\n",
    "\n",
    "It is not possible to directly plot `torch.Tensors`, but it turns out that the only reason is that they don't have an `ndim` attribute. The rather dirty workaround in the last line below, adds it.\n",
    "\n",
    "You can read more about `property` [here](https://docs.python.org/3/library/functions.html#property) and more in general [here](https://docs.python.org/3/howto/descriptor.html)."
   ]
  },
  {
   "cell_type": "code",
   "execution_count": 15,
   "metadata": {},
   "outputs": [],
   "source": [
    "#export\n",
    "@annealer\n",
    "def sched_cos(start, end, pos):\n",
    "    return start + (1 + math.cos(math.pi*(1-pos))) * (end-start) / 2\n",
    "\n",
    "\n",
    "@annealer\n",
    "def sched_no(start, end, pos):\n",
    "    return start\n",
    "\n",
    "\n",
    "@annealer\n",
    "def sched_exp(start, end, pos):\n",
    "    return start * (end / start) ** pos\n",
    "\n",
    "\n",
    "def cos_1cycle_anneal(start, high, end):\n",
    "    return [sched_cos(start, high), sched_cos(high, end)]\n",
    "\n",
    "\n",
    "# This monkey-patch is there to be able to plot tensors\n",
    "torch.Tensor.ndim = property(lambda x: len(x.shape))"
   ]
  },
  {
   "cell_type": "markdown",
   "metadata": {},
   "source": [
    "[Jump_to lesson 9 video](https://course.fast.ai/videos/?lesson=9&t=7730)"
   ]
  },
  {
   "cell_type": "code",
   "execution_count": 16,
   "metadata": {},
   "outputs": [
    {
     "data": {
      "image/png": "[encoded data removed]",
      "text/plain": [
       "<Figure size 432x288 with 1 Axes>"
      ]
     },
     "metadata": {
      "needs_background": "light"
     },
     "output_type": "display_data"
    }
   ],
   "source": [
    "annealings = \"NO LINEAR COS EXP\".split()\n",
    "\n",
    "a = torch.arange(0, 100)\n",
    "p = torch.linspace(0.01,1,100)\n",
    "\n",
    "fns = [sched_no, sched_lin, sched_cos, sched_exp]\n",
    "for fn, t in zip(fns, annealings):\n",
    "    f = fn(2, 1e-2)\n",
    "    plt.plot(a, [f(o) for o in p], label=t)\n",
    "plt.legend();"
   ]
  },
  {
   "cell_type": "markdown",
   "metadata": {},
   "source": [
    "It has been observed that if you want to do one-cycle scheduling you need some type of warm-up phase followed by some type of cool-down. In some cases, like in SGDI, you can have multiple cool-downs. In practice, we'll often want to combine different schedulers, the following function takes a list of scheduler `scheds` and of percentages of the training loop `pcts`. Don't confuse these percentages with actual values of `pos`. If, for example, we have:\n",
    "\n",
    "```python\n",
    "pcts = torch.tensor([0.3, 0.4, 0.3])\n",
    "scheds = [sched1(start, end), sched2(start, end), sched3(start, end)]\n",
    "```\n",
    "\n",
    "This means that the first 30% of the training loop, *i.e.*, from 0.0 to 0.3, will be run with scheduler `sched1`. The following 40%, *i.e.*, from 0.3 to 0.7, will be run with scheduler `sched2`, and the last 30%, from 0.7 to 1.0, will be run with `sched3`.\n",
    "\n",
    "In this example, when `pos = 0.4`, we have\n",
    "\n",
    "```python\n",
    "pos >= pcts[0]  # True\n",
    "pos >= pcts[1]  # True\n",
    "pos >= pcts[2]  # False\n",
    "```\n",
    "\n",
    "`torch.nonzero()` returns the index of the nonzero elements. In a boolean tensor, it returns the index of the `True` elements. We want to use the scheduler associated with the *largest* index of a `True` element, hence the `nonzero().max()` below.\n",
    "\n",
    "The naming is quite unfortunate: `pos` in `_inner()` is the position in the training loop (we may say, the *actual position*). Scheduler 2 is supposed to start only when `pos = 0.3`, but internally it should start from zero, or it will be weird. This is why the `actual_pos` is a rescaled version of `pos` that ranges from 0.0 to 1.0 rather than from `pcts[idx]` to `pcts[idx + 1]`."
   ]
  },
  {
   "cell_type": "code",
   "execution_count": 17,
   "metadata": {},
   "outputs": [],
   "source": [
    "#export\n",
    "def combine_scheds(pcts, scheds):\n",
    "    assert sum(pcts) == 1.\n",
    "    pcts = tensor([0] + listify(pcts))\n",
    "    assert torch.all(pcts >= 0)\n",
    "    pcts = torch.cumsum(pcts, 0)\n",
    "\n",
    "    def _inner(pos):\n",
    "        idx = (pos >= pcts).nonzero().max()\n",
    "        actual_pos = (pos - pcts[idx]) / (pcts[idx + 1] - pcts[idx])\n",
    "        return scheds[idx](actual_pos)\n",
    "    return _inner"
   ]
  },
  {
   "cell_type": "markdown",
   "metadata": {},
   "source": [
    "Here is an example: use 30% of the \"epoch budget\", *i.e.*, for `pos` between 0.0 and 0.3, go from a `start` value of the learning rate of 0.3 up to a final value `end` of 0.6 following a cosine. For the remaining 70% of the \"epoch budget\", *i.e.*, for `pos` between 0.3 and 1.0, go from `start` = 0.6 to `end` = 0.2, still following a cosine. The continuity of the function is guaranteed by the fact that the `end` value in the first scheduler is the same as the `start` value in the second phase."
   ]
  },
  {
   "cell_type": "code",
   "execution_count": 18,
   "metadata": {},
   "outputs": [],
   "source": [
    "sched = combine_scheds([0.3, 0.7], [sched_cos(0.3, 0.6), sched_cos(0.6, 0.2)]) "
   ]
  },
  {
   "cell_type": "markdown",
   "metadata": {},
   "source": [
    "The scheduler shown below is the one used by default by fastai. It's not published anywhere. There is a gentle warm-up at the beginning, but it doesn't take long to get into a nice region of the loss landscape, and we will see this when talking about hooks. One thing that people have started realizing only recently, although Leslie Smith said it already two years ago, is that you need to train at a high learning rate for a long time, and this is what this scheduler does. However, you also need to fine tune at a low learning rate for a long time, and this is what we do as well."
   ]
  },
  {
   "cell_type": "code",
   "execution_count": 19,
   "metadata": {},
   "outputs": [
    {
     "data": {
      "text/plain": [
       "[<matplotlib.lines.Line2D at 0x7f31edc32f28>]"
      ]
     },
     "execution_count": 19,
     "metadata": {},
     "output_type": "execute_result"
    },
    {
     "data": {
      "image/png": "[encoded data removed]",
      "text/plain": [
       "<Figure size 432x288 with 1 Axes>"
      ]
     },
     "metadata": {
      "needs_background": "light"
     },
     "output_type": "display_data"
    }
   ],
   "source": [
    "plt.plot(a, [sched(o) for o in p])"
   ]
  },
  {
   "cell_type": "markdown",
   "metadata": {},
   "source": [
    "We can combine the callback functions in a list and pass it to a `Runner` instance."
   ]
  },
  {
   "cell_type": "code",
   "execution_count": 20,
   "metadata": {},
   "outputs": [],
   "source": [
    "cbfs = [Recorder,\n",
    "        partial(AvgStatsCallback,accuracy),\n",
    "        partial(ParamScheduler, 'lr', sched)]"
   ]
  },
  {
   "cell_type": "code",
   "execution_count": 21,
   "metadata": {},
   "outputs": [],
   "source": [
    "learn = create_learner(get_model_func(0.3), loss_func, data)\n",
    "run = Runner(cb_funcs=cbfs)"
   ]
  },
  {
   "cell_type": "code",
   "execution_count": 22,
   "metadata": {},
   "outputs": [
    {
     "name": "stdout",
     "output_type": "stream",
     "text": [
      "train: [0.7918790625, tensor(0.7799)]\n",
      "valid: [0.318653076171875, tensor(0.9073)]\n",
      "train: [0.30302888671875, tensor(0.9118)]\n",
      "valid: [0.2385738525390625, tensor(0.9336)]\n",
      "train: [0.24192525390625, tensor(0.9319)]\n",
      "valid: [0.215330419921875, tensor(0.9416)]\n"
     ]
    }
   ],
   "source": [
    "run.fit(3, learn)"
   ]
  },
  {
   "cell_type": "markdown",
   "metadata": {},
   "source": [
    "... then check with our recorder if the learning rate followed the right schedule."
   ]
  },
  {
   "cell_type": "code",
   "execution_count": 23,
   "metadata": {},
   "outputs": [
    {
     "data": {
      "image/png": "[encoded data removed]",
      "text/plain": [
       "<Figure size 432x288 with 1 Axes>"
      ]
     },
     "metadata": {
      "needs_background": "light"
     },
     "output_type": "display_data"
    }
   ],
   "source": [
    "run.recorder.plot_lr()"
   ]
  },
  {
   "cell_type": "code",
   "execution_count": 24,
   "metadata": {},
   "outputs": [
    {
     "data": {
      "image/png": "[encoded data removed]",
      "text/plain": [
       "<Figure size 432x288 with 1 Axes>"
      ]
     },
     "metadata": {
      "needs_background": "light"
     },
     "output_type": "display_data"
    }
   ],
   "source": [
    "run.recorder.plot_loss()"
   ]
  },
  {
   "cell_type": "markdown",
   "metadata": {},
   "source": [
    "We have seen how to add callbacks at different stages of the training loop, but one thing we cannot do is adding callbacks *between layers*. Next week we will first add them manually, and then we will take advantage of PyTorch hooks to plot and understand what happens inside our models while they are training, and we will find ways to train them more efficiently."
   ]
  },
  {
   "cell_type": "markdown",
   "metadata": {},
   "source": [
    "## Export"
   ]
  },
  {
   "cell_type": "code",
   "execution_count": 25,
   "metadata": {},
   "outputs": [
    {
     "name": "stdout",
     "output_type": "stream",
     "text": [
      "Converted 05_anneal.ipynb to exp/nb_05.py\r\n"
     ]
    }
   ],
   "source": [
    "!./notebook2script.py 05_anneal.ipynb"
   ]
  }
 ],
 "metadata": {
  "kernelspec": {
   "display_name": "Python 3",
   "language": "python",
   "name": "python3"
  },
  "language_info": {
   "codemirror_mode": {
    "name": "ipython",
    "version": 3
   },
   "file_extension": ".py",
   "mimetype": "text/x-python",
   "name": "python",
   "nbconvert_exporter": "python",
   "pygments_lexer": "ipython3",
   "version": "3.6.7"
  }
 },
 "nbformat": 4,
 "nbformat_minor": 2
}
